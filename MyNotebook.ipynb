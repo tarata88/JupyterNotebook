{
 "cells": [
  {
   "cell_type": "code",
   "execution_count": 20,
   "id": "bb284803-3979-4faf-821a-4d2754806d15",
   "metadata": {},
   "outputs": [
    {
     "name": "stdout",
     "output_type": "stream",
     "text": [
      "The watermark extension is already loaded. To reload it, use:\n",
      "  %reload_ext watermark\n",
      "Python implementation: CPython\n",
      "Python version       : 3.13.1\n",
      "IPython version      : 8.31.0\n",
      "\n",
      "wget         : not installed\n",
      "pandas       : not installed\n",
      "numpy        : not installed\n",
      "geopy        : not installed\n",
      "altair       : not installed\n",
      "vega_datasets: not installed\n",
      "watermark    : 2.5.0\n",
      "\n",
      "Compiler    : MSC v.1942 64 bit (AMD64)\n",
      "OS          : Windows\n",
      "Release     : 10\n",
      "Machine     : AMD64\n",
      "Processor   : Intel64 Family 6 Model 94 Stepping 3, GenuineIntel\n",
      "CPU cores   : 8\n",
      "Architecture: 64bit\n",
      "\n",
      "Last updated: Thu Jan 30 2025 19:21:46Taipei Standard Time\n",
      "\n"
     ]
    }
   ],
   "source": [
    "# https://github.com/rasbt/watermark?tab=readme-ov-file#usage\n",
    "%load_ext watermark\n",
    "# get version information\n",
    "%watermark -v -m -p wget,pandas,numpy,geopy,altair,vega_datasets,watermark\n",
    "# date\n",
    "%watermark -u -n -t -z"
   ]
  }
 ],
 "metadata": {
  "kernelspec": {
   "display_name": "Python 3 (ipykernel)",
   "language": "python",
   "name": "python3"
  },
  "language_info": {
   "codemirror_mode": {
    "name": "ipython",
    "version": 3
   },
   "file_extension": ".py",
   "mimetype": "text/x-python",
   "name": "python",
   "nbconvert_exporter": "python",
   "pygments_lexer": "ipython3",
   "version": "3.13.1"
  }
 },
 "nbformat": 4,
 "nbformat_minor": 5
}
