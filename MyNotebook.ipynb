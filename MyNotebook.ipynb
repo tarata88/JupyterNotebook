{
  "cells": [
    {
      "cell_type": "markdown",
      "metadata": {
        "id": "view-in-github",
        "colab_type": "text"
      },
      "source": [
        "<a href=\"https://colab.research.google.com/github/tarata88/JupyterNotebook/blob/main/MyNotebook.ipynb\" target=\"_parent\"><img src=\"https://colab.research.google.com/assets/colab-badge.svg\" alt=\"Open In Colab\"/></a>"
      ]
    },
    {
      "cell_type": "code",
      "execution_count": 4,
      "id": "bb284803-3979-4faf-821a-4d2754806d15",
      "metadata": {
        "id": "bb284803-3979-4faf-821a-4d2754806d15",
        "outputId": "ad36f117-4a2c-41c4-9c39-8e787767ce21",
        "colab": {
          "base_uri": "https://localhost:8080/"
        }
      },
      "outputs": [
        {
          "output_type": "stream",
          "name": "stdout",
          "text": [
            "The watermark extension is already loaded. To reload it, use:\n",
            "  %reload_ext watermark\n",
            "Python implementation: CPython\n",
            "Python version       : 3.11.11\n",
            "IPython version      : 7.34.0\n",
            "\n",
            "wget         : not installed\n",
            "pandas       : 2.2.2\n",
            "numpy        : 1.26.4\n",
            "geopy        : 2.4.1\n",
            "altair       : 5.5.0\n",
            "vega_datasets: 0.9.0\n",
            "watermark    : 2.5.0\n",
            "\n",
            "Compiler    : GCC 11.4.0\n",
            "OS          : Linux\n",
            "Release     : 6.1.85+\n",
            "Machine     : x86_64\n",
            "Processor   : x86_64\n",
            "CPU cores   : 2\n",
            "Architecture: 64bit\n",
            "\n",
            "Last updated: Thu Jan 30 2025 14:12:13UTC\n",
            "\n"
          ]
        }
      ],
      "source": [
        "# https://github.com/rasbt/watermark?tab=readme-ov-file#usage\n",
        "%load_ext watermark\n",
        "# get version information\n",
        "%watermark -v -m -p wget,pandas,numpy,geopy,altair,vega_datasets,watermark\n",
        "# date\n",
        "%watermark -u -n -t -z"
      ]
    }
  ],
  "metadata": {
    "kernelspec": {
      "display_name": "Python 3 (ipykernel)",
      "language": "python",
      "name": "python3"
    },
    "language_info": {
      "codemirror_mode": {
        "name": "ipython",
        "version": 3
      },
      "file_extension": ".py",
      "mimetype": "text/x-python",
      "name": "python",
      "nbconvert_exporter": "python",
      "pygments_lexer": "ipython3",
      "version": "3.13.1"
    },
    "colab": {
      "provenance": [],
      "include_colab_link": true
    }
  },
  "nbformat": 4,
  "nbformat_minor": 5
}